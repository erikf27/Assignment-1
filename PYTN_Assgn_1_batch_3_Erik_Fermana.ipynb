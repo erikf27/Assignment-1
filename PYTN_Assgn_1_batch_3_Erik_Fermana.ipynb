{
 "cells": [
  {
   "cell_type": "code",
   "execution_count": 1,
   "metadata": {},
   "outputs": [
    {
     "name": "stdout",
     "output_type": "stream",
     "text": [
      "          lsoa_code     borough               major_category  \\\n",
      "0         E01001116     Croydon                     Burglary   \n",
      "1         E01001646   Greenwich  Violence Against the Person   \n",
      "2         E01000677     Bromley  Violence Against the Person   \n",
      "3         E01003774   Redbridge                     Burglary   \n",
      "4         E01004563  Wandsworth                      Robbery   \n",
      "...             ...         ...                          ...   \n",
      "13490599  E01000504       Brent              Criminal Damage   \n",
      "13490600  E01002504  Hillingdon                      Robbery   \n",
      "13490601  E01004165      Sutton                     Burglary   \n",
      "13490602  E01001134     Croydon                      Robbery   \n",
      "13490603  E01003413      Merton  Violence Against the Person   \n",
      "\n",
      "                       minor_category  value  year  month  \n",
      "0         Burglary in Other Buildings      0  2016     11  \n",
      "1                      Other violence      0  2016     11  \n",
      "2                      Other violence      0  2015      5  \n",
      "3         Burglary in Other Buildings      0  2016      3  \n",
      "4                   Personal Property      0  2008      6  \n",
      "...                               ...    ...   ...    ...  \n",
      "13490599  Criminal Damage To Dwelling      0  2015      2  \n",
      "13490600            Personal Property      1  2015      6  \n",
      "13490601       Burglary in a Dwelling      0  2011      2  \n",
      "13490602            Business Property      0  2011      5  \n",
      "13490603                 Wounding/GBH      0  2015      6  \n",
      "\n",
      "[13490604 rows x 7 columns]\n"
     ]
    }
   ],
   "source": [
    "import pandas as pd\n",
    "import numpy as np\n",
    "\n",
    "namaFile = pd.read_csv ('B:/dataset/london_crime_by_lsoa.csv')\n",
    "print(namaFile)"
   ]
  },
  {
   "cell_type": "code",
   "execution_count": 8,
   "metadata": {},
   "outputs": [],
   "source": [
    "%matplotlib inline\n",
    "\n",
    "import matplotlib as mpl\n",
    "import matplotlib.pyplot as plt\n",
    "import csv"
   ]
  },
  {
   "cell_type": "code",
   "execution_count": 12,
   "metadata": {},
   "outputs": [
    {
     "name": "stdout",
     "output_type": "stream",
     "text": [
      "['Solarize_Light2', '_classic_test_patch', '_mpl-gallery', '_mpl-gallery-nogrid', 'bmh', 'classic', 'dark_background', 'fast', 'fivethirtyeight', 'ggplot', 'grayscale', 'seaborn-v0_8', 'seaborn-v0_8-bright', 'seaborn-v0_8-colorblind', 'seaborn-v0_8-dark', 'seaborn-v0_8-dark-palette', 'seaborn-v0_8-darkgrid', 'seaborn-v0_8-deep', 'seaborn-v0_8-muted', 'seaborn-v0_8-notebook', 'seaborn-v0_8-paper', 'seaborn-v0_8-pastel', 'seaborn-v0_8-poster', 'seaborn-v0_8-talk', 'seaborn-v0_8-ticks', 'seaborn-v0_8-white', 'seaborn-v0_8-whitegrid', 'tableau-colorblind10']\n"
     ]
    }
   ],
   "source": [
    "print(plt.style.available)\n",
    "mpl.style.use(['ggplot']) # optional: for ggplot-like style"
   ]
  }
 ],
 "metadata": {
  "kernelspec": {
   "display_name": "Python 3.10.6 64-bit",
   "language": "python",
   "name": "python3"
  },
  "language_info": {
   "codemirror_mode": {
    "name": "ipython",
    "version": 3
   },
   "file_extension": ".py",
   "mimetype": "text/x-python",
   "name": "python",
   "nbconvert_exporter": "python",
   "pygments_lexer": "ipython3",
   "version": "3.10.6"
  },
  "orig_nbformat": 4,
  "vscode": {
   "interpreter": {
    "hash": "4e4cf0ef492b2735ec8945b0e907f3bc66cda71ea375aa0142b90fd510c129b0"
   }
  }
 },
 "nbformat": 4,
 "nbformat_minor": 2
}
